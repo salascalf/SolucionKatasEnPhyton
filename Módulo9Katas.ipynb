{
 "cells": [
  {
   "cell_type": "markdown",
   "metadata": {},
   "source": [
    "Ejercicio: Uso de funciones en Python\n",
    "\n",
    "Ejercicio 1: Trabajar con argumentos en funciones\n",
    "\n",
    "Los argumentos requeridos en las funciones se utilizan cuando las funciones necesitan que esos argumentos funcionen correctamente. En este ejercicio, construirás un informe de combustible que requiere información de varias ubicaciones de combustible en todo el cohete.\n",
    "\n",
    "Comienza por crear una función que necesite tres lecturas de combustible y devuelva un informe:"
   ]
  },
  {
   "cell_type": "code",
   "execution_count": 1,
   "metadata": {},
   "outputs": [],
   "source": [
    "def Lista_combustible (combustible1,combustible2,combustible3):\n",
    "    total_combustible =(combustible1 + combustible2 + combustible3) / 3\n",
    "    return f\"\"\"Reporte de combustible: \n",
    "    Total de combustible: {total_combustible}%\n",
    "    Combustible de arriba: {combustible1}%\n",
    "    Combustible de medio: {combustible2 }%\n",
    "    Combustible de abajo: {combustible3}%\"\"\""
   ]
  },
  {
   "cell_type": "markdown",
   "metadata": {},
   "source": [
    "Ahora que hemos definido la función de informes, vamos a comprobarlo. Para esta misión, los tanques no están llenos:"
   ]
  },
  {
   "cell_type": "code",
   "execution_count": 2,
   "metadata": {},
   "outputs": [
    {
     "name": "stdout",
     "output_type": "stream",
     "text": [
      "Reporte de combustible: \n",
      "    Total de combustible: 35.666666666666664%\n",
      "    Combustible de arriba: 20%\n",
      "    Combustible de medio: 48%\n",
      "    Combustible de abajo: 39%\n"
     ]
    }
   ],
   "source": [
    "print(Lista_combustible(20, 48, 39))"
   ]
  },
  {
   "cell_type": "markdown",
   "metadata": {},
   "source": [
    "En lugar de simplemente crear el informe, la función también está calculando el promedio. Mejora la legibilidad extrayendo el cálculo promedio de la función en una nueva función para que el promedio se pueda hacer de forma independiente:"
   ]
  },
  {
   "cell_type": "code",
   "execution_count": 3,
   "metadata": {},
   "outputs": [
    {
     "data": {
      "text/plain": [
       "26.666666666666668"
      ]
     },
     "execution_count": 3,
     "metadata": {},
     "output_type": "execute_result"
    }
   ],
   "source": [
    "def Promedio(valores):\n",
    "    total = sum(valores)\n",
    "    numero_combustible = len(valores)\n",
    "    return total/ numero_combustible\n",
    "\n",
    "Promedio ([10,30,40])\n"
   ]
  },
  {
   "cell_type": "markdown",
   "metadata": {},
   "source": [
    "Ahora actualiza la función de informes para llamando a la nueva función del promedio:"
   ]
  },
  {
   "cell_type": "code",
   "execution_count": 4,
   "metadata": {},
   "outputs": [
    {
     "name": "stdout",
     "output_type": "stream",
     "text": [
      "Reporte de combustible: \n",
      "    Total de combustible: 26.666666666666668%\n",
      "    Combustible de arriba: 10%\n",
      "    Combustible de medio: 30%\n",
      "    Combustible de abajo: 40%\n"
     ]
    }
   ],
   "source": [
    "def Lista_combustible (combustible1,combustible2,combustible3):\n",
    "    return f\"\"\"Reporte de combustible: \n",
    "    Total de combustible: {Promedio([combustible1, combustible2, combustible3])}%\n",
    "    Combustible de arriba: {combustible1}%\n",
    "    Combustible de medio: {combustible2 }%\n",
    "    Combustible de abajo: {combustible3}%\"\"\"\n",
    "\n",
    "print(Lista_combustible(10,30,40))"
   ]
  },
  {
   "cell_type": "markdown",
   "metadata": {},
   "source": [
    "Ejercicio 2: Trabajo con argumentos de palabra clave\n",
    "\n",
    "Ejercicio : Trabajar con argumentos de palabras clave en funciones\n",
    "\n",
    "En este ejercicio, construirás un informe de cohete que requiere varias piezas de información, como el tiempo hasta el destino, el combustible a la izquierda y el nombre del destino. Comienza por crear una función que creará un informe preciso de la misión:"
   ]
  },
  {
   "cell_type": "code",
   "execution_count": 5,
   "metadata": {},
   "outputs": [
    {
     "name": "stdout",
     "output_type": "stream",
     "text": [
      " Informe del cohete\n",
      "    Nombre del destino: Moon\n",
      "    Tiempo hasta el destino: 65 Minutos\n",
      "    Combustible restante: 500000 Galones\n",
      "    \n"
     ]
    }
   ],
   "source": [
    "def Informe_cohete(Tiempo_despliege, tiempo, destino, combustible_izquierdo, combustible_principal):\n",
    "    return f\"\"\" Informe del cohete\n",
    "    Nombre del destino: {destino}\n",
    "    Tiempo hasta el destino: {Tiempo_despliege + tiempo} Minutos\n",
    "    Combustible restante: {combustible_izquierdo + combustible_principal} Galones\n",
    "    \"\"\"\n",
    "\n",
    "print(Informe_cohete (14, 51, \"Moon\", 200000, 300000)) "
   ]
  },
  {
   "cell_type": "markdown",
   "metadata": {},
   "source": [
    "La función es problemática porque no se puede adaptar para minutos adicionales o tanques adicionales de combustible. Hazlo más flexible permitiendo cualquier número de pasos basados en el tiempo y cualquier número de tanques. En lugar de usar *args y **kwargs, aprovecha el hecho de que puedes usar cualquier nombre que desees. Asegurate que la función sea más legible mediante el uso de nombres de variables que están asociados con las entradas, como *minutes y **fuel_reservoirs:"
   ]
  },
  {
   "cell_type": "code",
   "execution_count": 6,
   "metadata": {},
   "outputs": [
    {
     "name": "stdout",
     "output_type": "stream",
     "text": [
      " Informe del cohete\n",
      "    Nombre del destino: Luna\n",
      "    Tiempo hasta el destino: 90 Minutos\n",
      "    Combustible restante: 500000 Galones\n",
      "    \n"
     ]
    }
   ],
   "source": [
    "def informe_cohete (destino, *minutes, **fuel_reservoirs):\n",
    "    return f\"\"\" Informe del cohete\n",
    "    Nombre del destino: {destino}\n",
    "    Tiempo hasta el destino: {sum(minutes)} Minutos\n",
    "    Combustible restante: {sum(fuel_reservoirs.values())} Galones\n",
    "    \"\"\"\n",
    "print(informe_cohete(\"Luna\", 40, 40, 10, combustible_principal=300000, Combustible_izquierdo=200000))"
   ]
  },
  {
   "cell_type": "markdown",
   "metadata": {},
   "source": [
    "Debido a que el combustible que queda en los tanques es específico de cada tanque, actualiza la función para usar el nombre de cada tanque en el informe:"
   ]
  },
  {
   "cell_type": "code",
   "execution_count": 7,
   "metadata": {},
   "outputs": [
    {
     "name": "stdout",
     "output_type": "stream",
     "text": [
      " Informe del cohete\n",
      "    Nombre del destino: Luna\n",
      "    Tiempo hasta el destino: 90 Minutos\n",
      "    Combustible restante: 500000 Galones\n",
      "    combustible_principal tank --> 300000 galones \n",
      "    Combustible_izquierdo tank --> 200000 galones \n",
      "    \n"
     ]
    }
   ],
   "source": [
    "def informe_cohete (destino, *minutes, **fuel_reservoirs):\n",
    "    reporte_cohete = f\"\"\" Informe del cohete\n",
    "    Nombre del destino: {destino}\n",
    "    Tiempo hasta el destino: {sum(minutes)} Minutos\n",
    "    Combustible restante: {sum(fuel_reservoirs.values())} Galones\n",
    "    \"\"\"\n",
    "    for tank_name, galones in fuel_reservoirs.items():\n",
    "        reporte_cohete += f\"{tank_name} tank --> {galones} galones \\n    \"\n",
    "    return reporte_cohete\n",
    "\n",
    "print(informe_cohete(\"Luna\", 40, 40, 10, combustible_principal=300000, Combustible_izquierdo=200000))\n"
   ]
  }
 ],
 "metadata": {
  "interpreter": {
   "hash": "2b949ff9f2c126f507688a389a9c43b13d161a46d4006e55bcbbfc431bfeabf1"
  },
  "kernelspec": {
   "display_name": "Python 3.9.5 64-bit",
   "language": "python",
   "name": "python3"
  },
  "language_info": {
   "codemirror_mode": {
    "name": "ipython",
    "version": 3
   },
   "file_extension": ".py",
   "mimetype": "text/x-python",
   "name": "python",
   "nbconvert_exporter": "python",
   "pygments_lexer": "ipython3",
   "version": "3.9.5"
  },
  "orig_nbformat": 4
 },
 "nbformat": 4,
 "nbformat_minor": 2
}
