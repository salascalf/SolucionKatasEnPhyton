{
 "cells": [
  {
   "cell_type": "code",
   "execution_count": null,
   "metadata": {},
   "outputs": [],
   "source": []
  },
  {
   "cell_type": "markdown",
   "metadata": {},
   "source": [
    "Para este ejercicio, escribirás una lógica condicional que imprima una advertencia si un asteroide se acerca a la Tierra demasiado rápido. La velocidad del asteroide varía dependiendo de lo cerca que esté del sol, y cualquier velocidad superior a 25 kilómetros por segundo (km/s) merece una advertencia.\n",
    "\n",
    "Un asteroide se acerca, y viaja a una velocidad de 49 km/s."
   ]
  },
  {
   "cell_type": "code",
   "execution_count": 9,
   "metadata": {},
   "outputs": [
    {
     "name": "stdout",
     "output_type": "stream",
     "text": [
      "no hay peligro\n"
     ]
    }
   ],
   "source": [
    "asteroide= 12\n",
    "velocidad = 25\n",
    "\n",
    "if asteroide >= velocidad: \n",
    "   \n",
    "    print(\"peligro de asteroide hacia la tierra\")\n",
    "\n",
    "else :\n",
    "\n",
    "    print(\"no hay peligro\")"
   ]
  },
  {
   "cell_type": "markdown",
   "metadata": {},
   "source": [
    "Si un asteroide entra en la atmósfera de la Tierra a una velocidad mayor o igual a 20 km/s, a veces produce un rayo de luz que se puede ver desde la Tierra. Escribe la lógica condicional que usa declaraciones if, else, y elif para alertar a las personas de todo el mundo que deben buscar un asteroide en el cielo. ¡Hay uno que se dirige a la tierra ahora a una velocidad de 19 km/s!"
   ]
  },
  {
   "cell_type": "code",
   "execution_count": 12,
   "metadata": {},
   "outputs": [
    {
     "name": "stdout",
     "output_type": "stream",
     "text": [
      "buscar la luz en el cielo ¡Es un asteroide!\n"
     ]
    }
   ],
   "source": [
    "asteroide = 19\n",
    "velocidad = 20\n",
    "\n",
    "if velocidad >= asteroide:\n",
    "\n",
    "    print (\"buscar la luz en el cielo ¡Es un asteroide!\")\n",
    "\n",
    "elif asteroide == velocidad:\n",
    "    \n",
    "    print('buscar la luz en el cielo ¡Es un asteroide!')\n",
    "\n",
    "else :\n",
    "\n",
    "    print(\"no busques nada \")\n"
   ]
  },
  {
   "cell_type": "markdown",
   "metadata": {},
   "source": [
    "En este ejercicio, aprenderás información más matizada sobre cuándo los asteroides representan un peligro para la Tierra, y utilizarás esa información para mejorar nuestro sistema de advertencia. Aquí está la nueva información que necesitas saber:\n",
    "\n",
    "*Los asteroides de menos de 25 metros en su dimensión más grande probablemente se quemarán a medida que entren en la atmósfera de la Tierra.\n",
    "\n",
    "Si una pieza de un asteroide que es más grande que 25 metros pero más pequeña que 1000 metros golpeara la Tierra, causaría mucho daño.\n",
    "También discutimos en el ejercicio anterior que:\n",
    "\n",
    "La velocidad del asteroide varía en función de lo cerca que esté del sol, y cualquier velocidad superior a 25 kilómetros por segundo (km/s) merece una advertencia.\n",
    "Si un asteroide entra en la atmósfera de la Tierra a una velocidad mayor o igual a 20 km/s, a veces produce un rayo de luz que se puede ver desde la Tierra.\n",
    "Usando toda esta información, escribe un programa que emita la advertencia o información correcta a la gente de la Tierra, según la velocidad y el tamaño de un asteroide. Utiliza instrucciones if, else, y elif, así como los operadores and y or."
   ]
  },
  {
   "cell_type": "code",
   "execution_count": 32,
   "metadata": {},
   "outputs": [
    {
     "name": "stdout",
     "output_type": "stream",
     "text": [
      "¡peligro se aproxima un asteroide!\n"
     ]
    }
   ],
   "source": [
    "dimensionasteroide = 55\n",
    "velocidadasteroide = 33\n",
    "\n",
    "if dimensionasteroide >25 and  velocidadasteroide >= 25:\n",
    "\n",
    "    print (\"¡peligro se aproxima un asteroide!\")\n",
    "\n",
    "elif velocidadasteroide >= 20:\n",
    "\n",
    "    print('buscar la luz en el cielo ¡Es un asteroide!')\n",
    "\n",
    "elif dimensionasteroide < 25:   \n",
    "\n",
    "      print (\"¡sin peligro de asteroide!\") \n",
    "\n",
    "else :\n",
    "\n",
    "    print(\"sin peligro de asteroide! \")\n"
   ]
  }
 ],
 "metadata": {
  "interpreter": {
   "hash": "2b949ff9f2c126f507688a389a9c43b13d161a46d4006e55bcbbfc431bfeabf1"
  },
  "kernelspec": {
   "display_name": "Python 3.9.5 64-bit",
   "language": "python",
   "name": "python3"
  },
  "language_info": {
   "codemirror_mode": {
    "name": "ipython",
    "version": 3
   },
   "file_extension": ".py",
   "mimetype": "text/x-python",
   "name": "python",
   "nbconvert_exporter": "python",
   "pygments_lexer": "ipython3",
   "version": "3.9.5"
  },
  "orig_nbformat": 4
 },
 "nbformat": 4,
 "nbformat_minor": 2
}
